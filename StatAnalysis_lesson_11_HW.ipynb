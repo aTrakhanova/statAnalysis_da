{
 "cells": [
  {
   "cell_type": "markdown",
   "id": "f3f0567e",
   "metadata": {},
   "source": [
    "# Практика\n",
    "## Определение вероятности. События\n",
    "Требуется сгенерировать необходимые выборки и произвести по ним расчеты"
   ]
  },
  {
   "cell_type": "markdown",
   "id": "aee4c6dc",
   "metadata": {},
   "source": [
    "## Задача 1\n",
    "Брошено две монеты. Найти вероятность того, что монеты выпали разными сторонами"
   ]
  },
  {
   "cell_type": "code",
   "execution_count": 3,
   "id": "c768d8f6",
   "metadata": {},
   "outputs": [],
   "source": [
    "import pandas as pd\n",
    "import numpy as np\n",
    "import scipy.stats as sts\n",
    "import matplotlib.pyplot as plt\n",
    "%matplotlib inline"
   ]
  },
  {
   "cell_type": "code",
   "execution_count": 3,
   "id": "cd90fdc2",
   "metadata": {},
   "outputs": [],
   "source": [
    "conditions = [\"heads\", \"tails\"] # список значений выпадания стороны монеты\n",
    "N = 10 # количество подбрасываний"
   ]
  },
  {
   "cell_type": "code",
   "execution_count": 4,
   "id": "4f2d5f66",
   "metadata": {},
   "outputs": [
    {
     "data": {
      "text/plain": [
       "array(['tails', 'heads', 'heads', 'heads', 'heads', 'heads', 'tails',\n",
       "       'heads', 'heads', 'tails'], dtype='<U5')"
      ]
     },
     "execution_count": 4,
     "metadata": {},
     "output_type": "execute_result"
    }
   ],
   "source": [
    "# подбрасываем первую монету n-раз\n",
    "coin_1 = np.random.choice(conditions, N)\n",
    "coin_1"
   ]
  },
  {
   "cell_type": "code",
   "execution_count": 5,
   "id": "ca7b77fc",
   "metadata": {},
   "outputs": [
    {
     "data": {
      "text/plain": [
       "array(['tails', 'heads', 'heads', 'heads', 'heads', 'heads', 'heads',\n",
       "       'heads', 'tails', 'heads'], dtype='<U5')"
      ]
     },
     "execution_count": 5,
     "metadata": {},
     "output_type": "execute_result"
    }
   ],
   "source": [
    "# подбрасываем вторую монету n-раз\n",
    "coin_2 = np.random.choice(conditions, N)\n",
    "coin_2"
   ]
  },
  {
   "cell_type": "code",
   "execution_count": 6,
   "id": "81c38ca3",
   "metadata": {},
   "outputs": [
    {
     "data": {
      "text/html": [
       "<div>\n",
       "<style scoped>\n",
       "    .dataframe tbody tr th:only-of-type {\n",
       "        vertical-align: middle;\n",
       "    }\n",
       "\n",
       "    .dataframe tbody tr th {\n",
       "        vertical-align: top;\n",
       "    }\n",
       "\n",
       "    .dataframe thead th {\n",
       "        text-align: right;\n",
       "    }\n",
       "</style>\n",
       "<table border=\"1\" class=\"dataframe\">\n",
       "  <thead>\n",
       "    <tr style=\"text-align: right;\">\n",
       "      <th></th>\n",
       "      <th>coin_1</th>\n",
       "      <th>coin_2</th>\n",
       "    </tr>\n",
       "  </thead>\n",
       "  <tbody>\n",
       "    <tr>\n",
       "      <th>0</th>\n",
       "      <td>tails</td>\n",
       "      <td>tails</td>\n",
       "    </tr>\n",
       "    <tr>\n",
       "      <th>1</th>\n",
       "      <td>heads</td>\n",
       "      <td>heads</td>\n",
       "    </tr>\n",
       "    <tr>\n",
       "      <th>2</th>\n",
       "      <td>heads</td>\n",
       "      <td>heads</td>\n",
       "    </tr>\n",
       "    <tr>\n",
       "      <th>3</th>\n",
       "      <td>heads</td>\n",
       "      <td>heads</td>\n",
       "    </tr>\n",
       "    <tr>\n",
       "      <th>4</th>\n",
       "      <td>heads</td>\n",
       "      <td>heads</td>\n",
       "    </tr>\n",
       "    <tr>\n",
       "      <th>5</th>\n",
       "      <td>heads</td>\n",
       "      <td>heads</td>\n",
       "    </tr>\n",
       "    <tr>\n",
       "      <th>6</th>\n",
       "      <td>tails</td>\n",
       "      <td>heads</td>\n",
       "    </tr>\n",
       "    <tr>\n",
       "      <th>7</th>\n",
       "      <td>heads</td>\n",
       "      <td>heads</td>\n",
       "    </tr>\n",
       "    <tr>\n",
       "      <th>8</th>\n",
       "      <td>heads</td>\n",
       "      <td>tails</td>\n",
       "    </tr>\n",
       "    <tr>\n",
       "      <th>9</th>\n",
       "      <td>tails</td>\n",
       "      <td>heads</td>\n",
       "    </tr>\n",
       "  </tbody>\n",
       "</table>\n",
       "</div>"
      ],
      "text/plain": [
       "  coin_1 coin_2\n",
       "0  tails  tails\n",
       "1  heads  heads\n",
       "2  heads  heads\n",
       "3  heads  heads\n",
       "4  heads  heads\n",
       "5  heads  heads\n",
       "6  tails  heads\n",
       "7  heads  heads\n",
       "8  heads  tails\n",
       "9  tails  heads"
      ]
     },
     "execution_count": 6,
     "metadata": {},
     "output_type": "execute_result"
    }
   ],
   "source": [
    "# формируем DataFrame с результатами подсбрасывания двух монет\n",
    "df_two_coins = pd.DataFrame(zip(coin_1, coin_2), columns = ['coin_1', 'coin_2'])\n",
    "df_two_coins.head(10)"
   ]
  },
  {
   "cell_type": "code",
   "execution_count": 9,
   "id": "abb516e6",
   "metadata": {},
   "outputs": [
    {
     "data": {
      "text/plain": [
       "0.3"
      ]
     },
     "execution_count": 9,
     "metadata": {},
     "output_type": "execute_result"
    }
   ],
   "source": [
    "# считаем долю выпадания монет разными сторонами\n",
    "(len(df_two_coins.query('(coin_1 == \"heads\" and coin_2 == \"tails\") or (coin_1 == \"tails\" and coin_2 == \"heads\")'))) / df_two_coins.shape[0]"
   ]
  },
  {
   "cell_type": "markdown",
   "id": "6feb9b8a",
   "metadata": {},
   "source": [
    "## Задача 2\n",
    "Брошено три монеты. Описать множество всех элементарных событий. Найти вероятности следующих событий:\n",
    "\n",
    "1. A = {не выпало ни одного герба}\n",
    "2. B = {выпало четное число гербов}\n",
    "3. C = {на третьей монете выпал герб}"
   ]
  },
  {
   "cell_type": "code",
   "execution_count": 10,
   "id": "9a5f3f45",
   "metadata": {},
   "outputs": [],
   "source": [
    "conditions = [\"heads\", \"tails\"] # список значений выпадания стороны монеты\n",
    "N = 10 # количество подбрасываний"
   ]
  },
  {
   "cell_type": "code",
   "execution_count": 11,
   "id": "1eabfd72",
   "metadata": {},
   "outputs": [
    {
     "data": {
      "text/plain": [
       "array(['tails', 'heads', 'tails', 'heads', 'tails', 'heads', 'tails',\n",
       "       'heads', 'heads', 'heads'], dtype='<U5')"
      ]
     },
     "execution_count": 11,
     "metadata": {},
     "output_type": "execute_result"
    }
   ],
   "source": [
    "# подбрасываем первую монету n-раз\n",
    "coin_1 = np.random.choice(conditions, N)\n",
    "coin_1"
   ]
  },
  {
   "cell_type": "code",
   "execution_count": 12,
   "id": "a748d98d",
   "metadata": {},
   "outputs": [
    {
     "data": {
      "text/plain": [
       "array(['tails', 'tails', 'heads', 'heads', 'tails', 'heads', 'tails',\n",
       "       'tails', 'heads', 'heads'], dtype='<U5')"
      ]
     },
     "execution_count": 12,
     "metadata": {},
     "output_type": "execute_result"
    }
   ],
   "source": [
    "# подбрасываем вторую монету n-раз\n",
    "coin_2 = np.random.choice(conditions, N)\n",
    "coin_2"
   ]
  },
  {
   "cell_type": "code",
   "execution_count": 13,
   "id": "3dac802f",
   "metadata": {},
   "outputs": [
    {
     "data": {
      "text/plain": [
       "array(['tails', 'heads', 'tails', 'heads', 'tails', 'tails', 'tails',\n",
       "       'heads', 'tails', 'tails'], dtype='<U5')"
      ]
     },
     "execution_count": 13,
     "metadata": {},
     "output_type": "execute_result"
    }
   ],
   "source": [
    "# подбрасываем третью монету n-раз\n",
    "coin_3 = np.random.choice(conditions, N)\n",
    "coin_3"
   ]
  },
  {
   "cell_type": "code",
   "execution_count": 14,
   "id": "fdcf3c7e",
   "metadata": {},
   "outputs": [
    {
     "data": {
      "text/html": [
       "<div>\n",
       "<style scoped>\n",
       "    .dataframe tbody tr th:only-of-type {\n",
       "        vertical-align: middle;\n",
       "    }\n",
       "\n",
       "    .dataframe tbody tr th {\n",
       "        vertical-align: top;\n",
       "    }\n",
       "\n",
       "    .dataframe thead th {\n",
       "        text-align: right;\n",
       "    }\n",
       "</style>\n",
       "<table border=\"1\" class=\"dataframe\">\n",
       "  <thead>\n",
       "    <tr style=\"text-align: right;\">\n",
       "      <th></th>\n",
       "      <th>coin_1</th>\n",
       "      <th>coin_2</th>\n",
       "      <th>coin_3</th>\n",
       "    </tr>\n",
       "  </thead>\n",
       "  <tbody>\n",
       "    <tr>\n",
       "      <th>0</th>\n",
       "      <td>tails</td>\n",
       "      <td>tails</td>\n",
       "      <td>tails</td>\n",
       "    </tr>\n",
       "    <tr>\n",
       "      <th>1</th>\n",
       "      <td>heads</td>\n",
       "      <td>tails</td>\n",
       "      <td>heads</td>\n",
       "    </tr>\n",
       "    <tr>\n",
       "      <th>2</th>\n",
       "      <td>tails</td>\n",
       "      <td>heads</td>\n",
       "      <td>tails</td>\n",
       "    </tr>\n",
       "    <tr>\n",
       "      <th>3</th>\n",
       "      <td>heads</td>\n",
       "      <td>heads</td>\n",
       "      <td>heads</td>\n",
       "    </tr>\n",
       "    <tr>\n",
       "      <th>4</th>\n",
       "      <td>tails</td>\n",
       "      <td>tails</td>\n",
       "      <td>tails</td>\n",
       "    </tr>\n",
       "    <tr>\n",
       "      <th>5</th>\n",
       "      <td>heads</td>\n",
       "      <td>heads</td>\n",
       "      <td>tails</td>\n",
       "    </tr>\n",
       "    <tr>\n",
       "      <th>6</th>\n",
       "      <td>tails</td>\n",
       "      <td>tails</td>\n",
       "      <td>tails</td>\n",
       "    </tr>\n",
       "    <tr>\n",
       "      <th>7</th>\n",
       "      <td>heads</td>\n",
       "      <td>tails</td>\n",
       "      <td>heads</td>\n",
       "    </tr>\n",
       "    <tr>\n",
       "      <th>8</th>\n",
       "      <td>heads</td>\n",
       "      <td>heads</td>\n",
       "      <td>tails</td>\n",
       "    </tr>\n",
       "    <tr>\n",
       "      <th>9</th>\n",
       "      <td>heads</td>\n",
       "      <td>heads</td>\n",
       "      <td>tails</td>\n",
       "    </tr>\n",
       "  </tbody>\n",
       "</table>\n",
       "</div>"
      ],
      "text/plain": [
       "  coin_1 coin_2 coin_3\n",
       "0  tails  tails  tails\n",
       "1  heads  tails  heads\n",
       "2  tails  heads  tails\n",
       "3  heads  heads  heads\n",
       "4  tails  tails  tails\n",
       "5  heads  heads  tails\n",
       "6  tails  tails  tails\n",
       "7  heads  tails  heads\n",
       "8  heads  heads  tails\n",
       "9  heads  heads  tails"
      ]
     },
     "execution_count": 14,
     "metadata": {},
     "output_type": "execute_result"
    }
   ],
   "source": [
    "# формируем DataFrame с результатами подсбрасывания трех монет\n",
    "df_three_coins = pd.DataFrame(zip(coin_1, coin_2, coin_3), columns = ['coin_1', 'coin_2', 'coin_3'])\n",
    "df_three_coins.head(10)"
   ]
  },
  {
   "cell_type": "code",
   "execution_count": 15,
   "id": "7c0b10d6",
   "metadata": {},
   "outputs": [
    {
     "data": {
      "text/plain": [
       "0.3"
      ]
     },
     "execution_count": 15,
     "metadata": {},
     "output_type": "execute_result"
    }
   ],
   "source": [
    "# считаем вероятность события А = {не выпало ни одного герба}\n",
    "result_A = (len(df_three_coins.query('(coin_1 == \"tails\" and coin_2 == \"tails\" and coin_3 == \"tails\")'))) / df_three_coins.shape[0]\n",
    "result_A"
   ]
  },
  {
   "cell_type": "code",
   "execution_count": 17,
   "id": "e2f329cf",
   "metadata": {},
   "outputs": [
    {
     "data": {
      "text/plain": [
       "0.5"
      ]
     },
     "execution_count": 17,
     "metadata": {},
     "output_type": "execute_result"
    }
   ],
   "source": [
    "# считаем вероятность события B = {выпало четное число гербов}\n",
    "result_B = (len(df_three_coins.query('((coin_1 == \"heads\" and coin_2 == \"heads\" and coin_3 == \"tails\") or (coin_1 == \"heads\" and coin_2 == \"tails\" and coin_3 == \"heads\") or (coin_1 == \"tails\" and coin_2 == \"heads\" and coin_3 == \"heads\"))'))) / df_three_coins.shape[0]\n",
    "result_B"
   ]
  },
  {
   "cell_type": "code",
   "execution_count": 16,
   "id": "c915de15",
   "metadata": {},
   "outputs": [
    {
     "data": {
      "text/plain": [
       "0.3"
      ]
     },
     "execution_count": 16,
     "metadata": {},
     "output_type": "execute_result"
    }
   ],
   "source": [
    "# считаем вероятность события C = {на третьей монете выпал герб}\n",
    "result_C = (len(df_three_coins.query('(coin_3 == \"heads\")'))) / df_three_coins.shape[0]\n",
    "result_C"
   ]
  },
  {
   "cell_type": "markdown",
   "id": "a2577dc3",
   "metadata": {},
   "source": [
    "Предлагается также решить задачи:\n",
    "\n",
    "## Задача 3\n",
    "Из двух претендентов E и L на ответственную должность три члена комиссии должны отобрать одного. Каждый член комиссии должен указать либо одного достойного, либо забраковать обоих. Претендент считается выбранным, если он был признана достойным хотя бы двумя членами комиссии. Найти вероятность событий:\n",
    "\n",
    "A = {рекомендован L}, B = {рекомендован E}"
   ]
  },
  {
   "cell_type": "code",
   "execution_count": 67,
   "id": "be4a9a22",
   "metadata": {},
   "outputs": [],
   "source": [
    "conditions = ['cand_E', 'cand_L', 'Nobody'] # список значений выбора кандидатов\n",
    "N = 10000 # количество повторений"
   ]
  },
  {
   "cell_type": "code",
   "execution_count": 68,
   "id": "ebe4a76b",
   "metadata": {},
   "outputs": [
    {
     "data": {
      "text/plain": [
       "array(['Nobody', 'Nobody', 'cand_L', ..., 'cand_L', 'cand_E', 'cand_E'],\n",
       "      dtype='<U6')"
      ]
     },
     "execution_count": 68,
     "metadata": {},
     "output_type": "execute_result"
    }
   ],
   "source": [
    "member_1 = np.random.choice(conditions, N)\n",
    "member_1"
   ]
  },
  {
   "cell_type": "code",
   "execution_count": 69,
   "id": "1c25228b",
   "metadata": {},
   "outputs": [
    {
     "data": {
      "text/plain": [
       "array(['Nobody', 'Nobody', 'cand_E', ..., 'Nobody', 'cand_L', 'Nobody'],\n",
       "      dtype='<U6')"
      ]
     },
     "execution_count": 69,
     "metadata": {},
     "output_type": "execute_result"
    }
   ],
   "source": [
    "member_2 = np.random.choice(conditions, N)\n",
    "member_2"
   ]
  },
  {
   "cell_type": "code",
   "execution_count": 70,
   "id": "33b782f5",
   "metadata": {},
   "outputs": [
    {
     "data": {
      "text/plain": [
       "array(['cand_L', 'Nobody', 'cand_E', ..., 'Nobody', 'Nobody', 'cand_L'],\n",
       "      dtype='<U6')"
      ]
     },
     "execution_count": 70,
     "metadata": {},
     "output_type": "execute_result"
    }
   ],
   "source": [
    "member_3 = np.random.choice(conditions, N)\n",
    "member_3"
   ]
  },
  {
   "cell_type": "code",
   "execution_count": 72,
   "id": "cff9b496",
   "metadata": {},
   "outputs": [
    {
     "data": {
      "text/html": [
       "<div>\n",
       "<style scoped>\n",
       "    .dataframe tbody tr th:only-of-type {\n",
       "        vertical-align: middle;\n",
       "    }\n",
       "\n",
       "    .dataframe tbody tr th {\n",
       "        vertical-align: top;\n",
       "    }\n",
       "\n",
       "    .dataframe thead th {\n",
       "        text-align: right;\n",
       "    }\n",
       "</style>\n",
       "<table border=\"1\" class=\"dataframe\">\n",
       "  <thead>\n",
       "    <tr style=\"text-align: right;\">\n",
       "      <th></th>\n",
       "      <th>member_1</th>\n",
       "      <th>member_2</th>\n",
       "      <th>member_3</th>\n",
       "    </tr>\n",
       "  </thead>\n",
       "  <tbody>\n",
       "    <tr>\n",
       "      <th>0</th>\n",
       "      <td>Nobody</td>\n",
       "      <td>Nobody</td>\n",
       "      <td>cand_L</td>\n",
       "    </tr>\n",
       "    <tr>\n",
       "      <th>1</th>\n",
       "      <td>Nobody</td>\n",
       "      <td>Nobody</td>\n",
       "      <td>Nobody</td>\n",
       "    </tr>\n",
       "    <tr>\n",
       "      <th>2</th>\n",
       "      <td>cand_L</td>\n",
       "      <td>cand_E</td>\n",
       "      <td>cand_E</td>\n",
       "    </tr>\n",
       "    <tr>\n",
       "      <th>3</th>\n",
       "      <td>Nobody</td>\n",
       "      <td>cand_L</td>\n",
       "      <td>cand_L</td>\n",
       "    </tr>\n",
       "    <tr>\n",
       "      <th>4</th>\n",
       "      <td>cand_E</td>\n",
       "      <td>cand_E</td>\n",
       "      <td>cand_E</td>\n",
       "    </tr>\n",
       "    <tr>\n",
       "      <th>5</th>\n",
       "      <td>cand_E</td>\n",
       "      <td>cand_E</td>\n",
       "      <td>cand_L</td>\n",
       "    </tr>\n",
       "    <tr>\n",
       "      <th>6</th>\n",
       "      <td>Nobody</td>\n",
       "      <td>cand_E</td>\n",
       "      <td>Nobody</td>\n",
       "    </tr>\n",
       "    <tr>\n",
       "      <th>7</th>\n",
       "      <td>cand_E</td>\n",
       "      <td>Nobody</td>\n",
       "      <td>Nobody</td>\n",
       "    </tr>\n",
       "    <tr>\n",
       "      <th>8</th>\n",
       "      <td>Nobody</td>\n",
       "      <td>Nobody</td>\n",
       "      <td>cand_E</td>\n",
       "    </tr>\n",
       "    <tr>\n",
       "      <th>9</th>\n",
       "      <td>Nobody</td>\n",
       "      <td>cand_E</td>\n",
       "      <td>cand_E</td>\n",
       "    </tr>\n",
       "  </tbody>\n",
       "</table>\n",
       "</div>"
      ],
      "text/plain": [
       "  member_1 member_2 member_3\n",
       "0   Nobody   Nobody   cand_L\n",
       "1   Nobody   Nobody   Nobody\n",
       "2   cand_L   cand_E   cand_E\n",
       "3   Nobody   cand_L   cand_L\n",
       "4   cand_E   cand_E   cand_E\n",
       "5   cand_E   cand_E   cand_L\n",
       "6   Nobody   cand_E   Nobody\n",
       "7   cand_E   Nobody   Nobody\n",
       "8   Nobody   Nobody   cand_E\n",
       "9   Nobody   cand_E   cand_E"
      ]
     },
     "execution_count": 72,
     "metadata": {},
     "output_type": "execute_result"
    }
   ],
   "source": [
    "df_commission_members = pd.DataFrame(zip(member_1, member_2, member_3), columns=['member_1', 'member_2', 'member_3'])\n",
    "df_commission_members.head(10)"
   ]
  },
  {
   "cell_type": "code",
   "execution_count": 73,
   "id": "c5895873",
   "metadata": {},
   "outputs": [
    {
     "data": {
      "text/plain": [
       "0.2484"
      ]
     },
     "execution_count": 73,
     "metadata": {},
     "output_type": "execute_result"
    }
   ],
   "source": [
    "# считаем вероятность события A = {рекомендован L}\n",
    "result_A = (len(df_commission_members.query('((member_1 == \"cand_L\" and member_2 == \"cand_L\") or (member_1 == \"cand_L\" and member_3 == \"cand_L\") or (member_2 == \"cand_L\" and member_3 == \"cand_L\"))'))) / df_commission_members.shape[0]\n",
    "result_A"
   ]
  },
  {
   "cell_type": "code",
   "execution_count": 74,
   "id": "d45449c5",
   "metadata": {},
   "outputs": [
    {
     "data": {
      "text/plain": [
       "0.2604"
      ]
     },
     "execution_count": 74,
     "metadata": {},
     "output_type": "execute_result"
    }
   ],
   "source": [
    "# считаем вероятность события B = {рекомендован E}\n",
    "result_B = (len(df_commission_members.query('((member_1 == \"cand_E\" and member_2 == \"cand_E\") or (member_1 == \"cand_E\" and member_3 == \"cand_E\") or (member_2 == \"cand_E\" and member_3 == \"cand_E\"))'))) / df_commission_members.shape[0]\n",
    "result_B"
   ]
  },
  {
   "cell_type": "markdown",
   "id": "d75c7f3e",
   "metadata": {},
   "source": [
    "## Задача 4\n",
    "Брошено две игральных кости. Описать множество элементарных событий. Найти вероятности событий:\n",
    "\n",
    "A = {вышло две \"шестерки\"}\n",
    "\n",
    "B = {сумма выпавших очков не меньше 11}\n",
    "\n",
    "C = {не выпала ни одна \"шестерка\"}"
   ]
  },
  {
   "cell_type": "code",
   "execution_count": 50,
   "id": "a650e951",
   "metadata": {},
   "outputs": [],
   "source": [
    "conditions = [1, 2, 3, 4, 5, 6] # список значений выпадания стороны кубика\n",
    "N = 10000 # количество подбрасываний"
   ]
  },
  {
   "cell_type": "code",
   "execution_count": 51,
   "id": "8823412b",
   "metadata": {},
   "outputs": [
    {
     "data": {
      "text/plain": [
       "array([1, 5, 2, ..., 6, 4, 1])"
      ]
     },
     "execution_count": 51,
     "metadata": {},
     "output_type": "execute_result"
    }
   ],
   "source": [
    "cube_1 = np.random.choice(conditions, N)\n",
    "cube_1"
   ]
  },
  {
   "cell_type": "code",
   "execution_count": 52,
   "id": "4995aef1",
   "metadata": {},
   "outputs": [
    {
     "data": {
      "text/plain": [
       "array([6, 1, 5, ..., 5, 3, 2])"
      ]
     },
     "execution_count": 52,
     "metadata": {},
     "output_type": "execute_result"
    }
   ],
   "source": [
    "cube_2 = np.random.choice(conditions, N)\n",
    "cube_2"
   ]
  },
  {
   "cell_type": "code",
   "execution_count": 53,
   "id": "fc767124",
   "metadata": {},
   "outputs": [
    {
     "data": {
      "text/html": [
       "<div>\n",
       "<style scoped>\n",
       "    .dataframe tbody tr th:only-of-type {\n",
       "        vertical-align: middle;\n",
       "    }\n",
       "\n",
       "    .dataframe tbody tr th {\n",
       "        vertical-align: top;\n",
       "    }\n",
       "\n",
       "    .dataframe thead th {\n",
       "        text-align: right;\n",
       "    }\n",
       "</style>\n",
       "<table border=\"1\" class=\"dataframe\">\n",
       "  <thead>\n",
       "    <tr style=\"text-align: right;\">\n",
       "      <th></th>\n",
       "      <th>cube_1</th>\n",
       "      <th>cube_2</th>\n",
       "    </tr>\n",
       "  </thead>\n",
       "  <tbody>\n",
       "    <tr>\n",
       "      <th>0</th>\n",
       "      <td>1</td>\n",
       "      <td>6</td>\n",
       "    </tr>\n",
       "    <tr>\n",
       "      <th>1</th>\n",
       "      <td>5</td>\n",
       "      <td>1</td>\n",
       "    </tr>\n",
       "    <tr>\n",
       "      <th>2</th>\n",
       "      <td>2</td>\n",
       "      <td>5</td>\n",
       "    </tr>\n",
       "    <tr>\n",
       "      <th>3</th>\n",
       "      <td>3</td>\n",
       "      <td>3</td>\n",
       "    </tr>\n",
       "    <tr>\n",
       "      <th>4</th>\n",
       "      <td>1</td>\n",
       "      <td>5</td>\n",
       "    </tr>\n",
       "    <tr>\n",
       "      <th>5</th>\n",
       "      <td>2</td>\n",
       "      <td>2</td>\n",
       "    </tr>\n",
       "    <tr>\n",
       "      <th>6</th>\n",
       "      <td>2</td>\n",
       "      <td>6</td>\n",
       "    </tr>\n",
       "    <tr>\n",
       "      <th>7</th>\n",
       "      <td>6</td>\n",
       "      <td>1</td>\n",
       "    </tr>\n",
       "    <tr>\n",
       "      <th>8</th>\n",
       "      <td>1</td>\n",
       "      <td>5</td>\n",
       "    </tr>\n",
       "    <tr>\n",
       "      <th>9</th>\n",
       "      <td>6</td>\n",
       "      <td>2</td>\n",
       "    </tr>\n",
       "  </tbody>\n",
       "</table>\n",
       "</div>"
      ],
      "text/plain": [
       "   cube_1  cube_2\n",
       "0       1       6\n",
       "1       5       1\n",
       "2       2       5\n",
       "3       3       3\n",
       "4       1       5\n",
       "5       2       2\n",
       "6       2       6\n",
       "7       6       1\n",
       "8       1       5\n",
       "9       6       2"
      ]
     },
     "execution_count": 53,
     "metadata": {},
     "output_type": "execute_result"
    }
   ],
   "source": [
    "df_two_cubes = pd.DataFrame(zip(cube_1, cube_2), columns = ['cube_1', 'cube_2'])\n",
    "df_two_cubes.head(10)"
   ]
  },
  {
   "cell_type": "code",
   "execution_count": 54,
   "id": "1571226e",
   "metadata": {},
   "outputs": [
    {
     "data": {
      "text/plain": [
       "0.0256"
      ]
     },
     "execution_count": 54,
     "metadata": {},
     "output_type": "execute_result"
    }
   ],
   "source": [
    "# считаем вероятность события A = {вышло две \"шестерки\"}\n",
    "result_A = (len(df_two_cubes.query('(cube_1 == 6 and cube_2 == 6)'))) / df_two_cubes.shape[0]\n",
    "result_A"
   ]
  },
  {
   "cell_type": "code",
   "execution_count": 55,
   "id": "b57bed0b",
   "metadata": {},
   "outputs": [
    {
     "data": {
      "text/plain": [
       "0.085"
      ]
     },
     "execution_count": 55,
     "metadata": {},
     "output_type": "execute_result"
    }
   ],
   "source": [
    "# считаем вероятность события B = {сумма выпавших очков не меньше 11}\n",
    "result_B = (len(df_two_cubes.query('(cube_1 + cube_2 >= 11)'))) / df_two_cubes.shape[0]\n",
    "result_B"
   ]
  },
  {
   "cell_type": "code",
   "execution_count": 56,
   "id": "5016bcb2",
   "metadata": {},
   "outputs": [
    {
     "data": {
      "text/plain": [
       "0.6937"
      ]
     },
     "execution_count": 56,
     "metadata": {},
     "output_type": "execute_result"
    }
   ],
   "source": [
    "# считаем вероятность события C = {не выпала ни одна \"шестерка\"}\n",
    "result_C = (len(df_two_cubes.query('(cube_1 != 6 and cube_2 != 6)'))) / df_two_cubes.shape[0]\n",
    "result_C"
   ]
  },
  {
   "cell_type": "markdown",
   "id": "1446b22b",
   "metadata": {},
   "source": [
    "# Вероятность суммы событий\n",
    "## Задача 5\n",
    "Брошены две игральные кости. Найти вероятность события D = {выпала хотя бы одна шестёрка}"
   ]
  },
  {
   "cell_type": "code",
   "execution_count": 17,
   "id": "880d208a",
   "metadata": {},
   "outputs": [],
   "source": [
    "conditions = [1, 2, 3, 4, 5, 6] # список значений выпадания стороны кубика\n",
    "N = 10000 # количество подбрасываний"
   ]
  },
  {
   "cell_type": "code",
   "execution_count": 18,
   "id": "8a72f255",
   "metadata": {},
   "outputs": [],
   "source": [
    "cube_1 = np.random.choice(conditions, N)\n",
    "cube_2 = np.random.choice(conditions, N)"
   ]
  },
  {
   "cell_type": "code",
   "execution_count": 19,
   "id": "9999cedb",
   "metadata": {},
   "outputs": [
    {
     "data": {
      "text/html": [
       "<div>\n",
       "<style scoped>\n",
       "    .dataframe tbody tr th:only-of-type {\n",
       "        vertical-align: middle;\n",
       "    }\n",
       "\n",
       "    .dataframe tbody tr th {\n",
       "        vertical-align: top;\n",
       "    }\n",
       "\n",
       "    .dataframe thead th {\n",
       "        text-align: right;\n",
       "    }\n",
       "</style>\n",
       "<table border=\"1\" class=\"dataframe\">\n",
       "  <thead>\n",
       "    <tr style=\"text-align: right;\">\n",
       "      <th></th>\n",
       "      <th>cube_1</th>\n",
       "      <th>cube_2</th>\n",
       "    </tr>\n",
       "  </thead>\n",
       "  <tbody>\n",
       "    <tr>\n",
       "      <th>0</th>\n",
       "      <td>1</td>\n",
       "      <td>6</td>\n",
       "    </tr>\n",
       "    <tr>\n",
       "      <th>1</th>\n",
       "      <td>2</td>\n",
       "      <td>1</td>\n",
       "    </tr>\n",
       "    <tr>\n",
       "      <th>2</th>\n",
       "      <td>3</td>\n",
       "      <td>2</td>\n",
       "    </tr>\n",
       "    <tr>\n",
       "      <th>3</th>\n",
       "      <td>4</td>\n",
       "      <td>3</td>\n",
       "    </tr>\n",
       "    <tr>\n",
       "      <th>4</th>\n",
       "      <td>3</td>\n",
       "      <td>4</td>\n",
       "    </tr>\n",
       "    <tr>\n",
       "      <th>5</th>\n",
       "      <td>4</td>\n",
       "      <td>3</td>\n",
       "    </tr>\n",
       "    <tr>\n",
       "      <th>6</th>\n",
       "      <td>4</td>\n",
       "      <td>4</td>\n",
       "    </tr>\n",
       "    <tr>\n",
       "      <th>7</th>\n",
       "      <td>1</td>\n",
       "      <td>6</td>\n",
       "    </tr>\n",
       "    <tr>\n",
       "      <th>8</th>\n",
       "      <td>3</td>\n",
       "      <td>5</td>\n",
       "    </tr>\n",
       "    <tr>\n",
       "      <th>9</th>\n",
       "      <td>2</td>\n",
       "      <td>4</td>\n",
       "    </tr>\n",
       "  </tbody>\n",
       "</table>\n",
       "</div>"
      ],
      "text/plain": [
       "   cube_1  cube_2\n",
       "0       1       6\n",
       "1       2       1\n",
       "2       3       2\n",
       "3       4       3\n",
       "4       3       4\n",
       "5       4       3\n",
       "6       4       4\n",
       "7       1       6\n",
       "8       3       5\n",
       "9       2       4"
      ]
     },
     "execution_count": 19,
     "metadata": {},
     "output_type": "execute_result"
    }
   ],
   "source": [
    "df_two_cubes = pd.DataFrame(zip(cube_1, cube_2), columns = ['cube_1', 'cube_2'])\n",
    "df_two_cubes.head(10)"
   ]
  },
  {
   "cell_type": "code",
   "execution_count": 20,
   "id": "9a912cfc",
   "metadata": {},
   "outputs": [
    {
     "data": {
      "text/plain": [
       "0.3091"
      ]
     },
     "execution_count": 20,
     "metadata": {},
     "output_type": "execute_result"
    }
   ],
   "source": [
    "# считаем вероятность события D = {выпала хотя бы одна шестёрка}\n",
    "result_D = (len(df_two_cubes.query('(cube_1 == 6 or cube_2 == 6)'))) / df_two_cubes.shape[0]\n",
    "result_D"
   ]
  },
  {
   "cell_type": "markdown",
   "id": "7fd1a91a",
   "metadata": {},
   "source": [
    "Предлагается также решить задачи:\n",
    "\n",
    "## Задача 6\n",
    "В телефонном номере три последние цифры стерлись. Считая, что все возможные значения стершихся цифр равновероятны, найти вероятность событий:\n",
    "\n",
    "A = {Стерлись различные цифры},\n",
    "\n",
    "B = {Стерлись одинаковые цифры},\n",
    "\n",
    "C = {Среди стершихся цифр хотя бы две совпадают},\n",
    "\n",
    "D = {Среди стершихся цифр хотя бы две различны}"
   ]
  },
  {
   "cell_type": "code",
   "execution_count": 48,
   "id": "0bdab4d8",
   "metadata": {},
   "outputs": [],
   "source": [
    "conditions = list(range(10)) # список значений выпадания стороны кубика\n",
    "N = 10000 # количество подбрасываний"
   ]
  },
  {
   "cell_type": "code",
   "execution_count": 49,
   "id": "22c222ba",
   "metadata": {},
   "outputs": [],
   "source": [
    "number_1 = np.random.choice(conditions, N)\n",
    "number_2 = np.random.choice(conditions, N)\n",
    "number_3 = np.random.choice(conditions, N)"
   ]
  },
  {
   "cell_type": "code",
   "execution_count": 50,
   "id": "82c4fa5a",
   "metadata": {},
   "outputs": [
    {
     "data": {
      "text/html": [
       "<div>\n",
       "<style scoped>\n",
       "    .dataframe tbody tr th:only-of-type {\n",
       "        vertical-align: middle;\n",
       "    }\n",
       "\n",
       "    .dataframe tbody tr th {\n",
       "        vertical-align: top;\n",
       "    }\n",
       "\n",
       "    .dataframe thead th {\n",
       "        text-align: right;\n",
       "    }\n",
       "</style>\n",
       "<table border=\"1\" class=\"dataframe\">\n",
       "  <thead>\n",
       "    <tr style=\"text-align: right;\">\n",
       "      <th></th>\n",
       "      <th>number_1</th>\n",
       "      <th>number_2</th>\n",
       "      <th>number_3</th>\n",
       "    </tr>\n",
       "  </thead>\n",
       "  <tbody>\n",
       "    <tr>\n",
       "      <th>0</th>\n",
       "      <td>1</td>\n",
       "      <td>0</td>\n",
       "      <td>6</td>\n",
       "    </tr>\n",
       "    <tr>\n",
       "      <th>1</th>\n",
       "      <td>6</td>\n",
       "      <td>1</td>\n",
       "      <td>7</td>\n",
       "    </tr>\n",
       "    <tr>\n",
       "      <th>2</th>\n",
       "      <td>3</td>\n",
       "      <td>0</td>\n",
       "      <td>8</td>\n",
       "    </tr>\n",
       "    <tr>\n",
       "      <th>3</th>\n",
       "      <td>7</td>\n",
       "      <td>1</td>\n",
       "      <td>2</td>\n",
       "    </tr>\n",
       "    <tr>\n",
       "      <th>4</th>\n",
       "      <td>6</td>\n",
       "      <td>2</td>\n",
       "      <td>9</td>\n",
       "    </tr>\n",
       "    <tr>\n",
       "      <th>5</th>\n",
       "      <td>0</td>\n",
       "      <td>4</td>\n",
       "      <td>8</td>\n",
       "    </tr>\n",
       "    <tr>\n",
       "      <th>6</th>\n",
       "      <td>4</td>\n",
       "      <td>2</td>\n",
       "      <td>3</td>\n",
       "    </tr>\n",
       "    <tr>\n",
       "      <th>7</th>\n",
       "      <td>4</td>\n",
       "      <td>4</td>\n",
       "      <td>6</td>\n",
       "    </tr>\n",
       "    <tr>\n",
       "      <th>8</th>\n",
       "      <td>4</td>\n",
       "      <td>9</td>\n",
       "      <td>2</td>\n",
       "    </tr>\n",
       "    <tr>\n",
       "      <th>9</th>\n",
       "      <td>9</td>\n",
       "      <td>4</td>\n",
       "      <td>5</td>\n",
       "    </tr>\n",
       "  </tbody>\n",
       "</table>\n",
       "</div>"
      ],
      "text/plain": [
       "   number_1  number_2  number_3\n",
       "0         1         0         6\n",
       "1         6         1         7\n",
       "2         3         0         8\n",
       "3         7         1         2\n",
       "4         6         2         9\n",
       "5         0         4         8\n",
       "6         4         2         3\n",
       "7         4         4         6\n",
       "8         4         9         2\n",
       "9         9         4         5"
      ]
     },
     "execution_count": 50,
     "metadata": {},
     "output_type": "execute_result"
    }
   ],
   "source": [
    "df_three_numbers = pd.DataFrame(zip(number_1, number_2, number_3), columns = ['number_1', 'number_2', 'number_3'])\n",
    "df_three_numbers.head(10)"
   ]
  },
  {
   "cell_type": "code",
   "execution_count": 51,
   "id": "7149bf2c",
   "metadata": {},
   "outputs": [
    {
     "data": {
      "text/plain": [
       "0.7172"
      ]
     },
     "execution_count": 51,
     "metadata": {},
     "output_type": "execute_result"
    }
   ],
   "source": [
    "# считаем вероятность события A = {Стерлись различные цифры}\n",
    "result_A = (len(df_three_numbers.query('(number_1 != number_2 and number_2 != number_3 and number_1 != number_3)'))) / df_three_numbers.shape[0]\n",
    "result_A"
   ]
  },
  {
   "cell_type": "code",
   "execution_count": 52,
   "id": "7f3e9fe6",
   "metadata": {},
   "outputs": [
    {
     "data": {
      "text/plain": [
       "0.0078"
      ]
     },
     "execution_count": 52,
     "metadata": {},
     "output_type": "execute_result"
    }
   ],
   "source": [
    "# считаем вероятность события B = {Стерлись одинаковые цифры}\n",
    "result_B = (len(df_three_numbers.query('(number_1 == number_2 == number_3)'))) / df_three_numbers.shape[0]\n",
    "result_B"
   ]
  },
  {
   "cell_type": "code",
   "execution_count": 53,
   "id": "6e773151",
   "metadata": {},
   "outputs": [
    {
     "data": {
      "text/plain": [
       "0.2828"
      ]
     },
     "execution_count": 53,
     "metadata": {},
     "output_type": "execute_result"
    }
   ],
   "source": [
    "# считаем вероятность события C = {Среди стершихся цифр хотя бы две совпадают}\n",
    "result_C = (len(df_three_numbers.query('(number_1 == number_2 or number_2 == number_3 or number_1 == number_3)'))) / df_three_numbers.shape[0]\n",
    "result_C"
   ]
  },
  {
   "cell_type": "code",
   "execution_count": 54,
   "id": "a5b1566c",
   "metadata": {},
   "outputs": [
    {
     "data": {
      "text/plain": [
       "0.9922"
      ]
     },
     "execution_count": 54,
     "metadata": {},
     "output_type": "execute_result"
    }
   ],
   "source": [
    "# считаем вероятность события D = {Среди стершихся цифр хотя бы две различны}\n",
    "result_D = (len(df_three_numbers.query('(number_1 != number_2 or number_2 != number_3 or number_1 != number_3)'))) / df_three_numbers.shape[0]\n",
    "result_D"
   ]
  },
  {
   "cell_type": "markdown",
   "id": "3674700e",
   "metadata": {},
   "source": [
    "# Случайные величины\n",
    "## Задача 7\n",
    "В лотерее имеется 10 билетов, из которых один выигрышный. Размер выигрыша 10 ден. ед.; стоимость билета 1 ден ед. Найти закон распределения случайной величины X, равной чистому выигрышу участника лотереи, который вытаскивает билет первым."
   ]
  },
  {
   "cell_type": "code",
   "execution_count": null,
   "id": "c20b8682",
   "metadata": {},
   "outputs": [],
   "source": [
    "# Распределение Бернулли\n",
    "# Возможные значения X - чистого выигрыша на один билет - равны:\n",
    "# x=-1 (билет невыигрышный, при этом на покупку билета потрачено 1 ден.ед.)\n",
    "# х=9 (билет выигрышый, 10 ден.ед. минус стоимость билета 1 ден.ед.)\n",
    "# P(x=-1) = 9/10 = 0.9\n",
    "# Р(x=9) = 1/10 = 0.1"
   ]
  },
  {
   "cell_type": "code",
   "execution_count": 212,
   "id": "85a546fc",
   "metadata": {},
   "outputs": [
    {
     "data": {
      "text/plain": [
       "array([0, 0, 0, 0, 1, 0, 0, 0, 0, 0])"
      ]
     },
     "execution_count": 212,
     "metadata": {},
     "output_type": "execute_result"
    }
   ],
   "source": [
    "bernoulli_rv = sts.bernoulli(p=0.1) # вероятность успеха - один выигрышный билет\n",
    "\n",
    "bernoulli_rv.rvs(10) # в лотерее 10 билетов"
   ]
  },
  {
   "cell_type": "code",
   "execution_count": 219,
   "id": "d9595f1f",
   "metadata": {},
   "outputs": [
    {
     "data": {
      "text/plain": [
       "[]"
      ]
     },
     "execution_count": 219,
     "metadata": {},
     "output_type": "execute_result"
    },
    {
     "data": {
      "image/png": "[encoded data removed]",
      "text/plain": [
       "<Figure size 432x288 with 1 Axes>"
      ]
     },
     "metadata": {
      "needs_background": "light"
     },
     "output_type": "display_data"
    }
   ],
   "source": [
    "x = np.linspace(0,1,2)    # 0 - исход: невыигрышный билет, 1 - выигрышный, 2 - кол-во исходов.\n",
    "pmf = bernoulli_rv.pmf(x) # вернёт массив из значений функции распределения\n",
    "plt.scatter(x, pmf, color=\"blue\" )\n",
    "plt.plot((0,0), (0,bernoulli_rv.pmf(0)), color=\"blue\")\n",
    "plt.plot((1,1), (0,bernoulli_rv.pmf(1)), color=\"blue\")\n",
    "plt.ylabel(\"$f(x)$\")\n",
    "plt.xlabel(\"$x$\")\n",
    "plt.plot()"
   ]
  },
  {
   "cell_type": "code",
   "execution_count": 222,
   "id": "a4f6762c",
   "metadata": {},
   "outputs": [
    {
     "data": {
      "text/plain": [
       "[]"
      ]
     },
     "execution_count": 222,
     "metadata": {},
     "output_type": "execute_result"
    },
    {
     "data": {
      "image/png": "[encoded data removed]",
      "text/plain": [
       "<Figure size 432x288 with 1 Axes>"
      ]
     },
     "metadata": {
      "needs_background": "light"
     },
     "output_type": "display_data"
    }
   ],
   "source": [
    "x = np.linspace(0,2,10)   # 10 - кол-во билетов в лотерее\n",
    "cdf = bernoulli_rv.cdf(x) # вернёт массив из значений функции распределения\n",
    "plt.plot(x, cdf, color=\"darkblue\")\n",
    "plt.ylabel(\"$f(x)$\")\n",
    "plt.xlabel(\"$x$\")\n",
    "plt.plot()"
   ]
  },
  {
   "cell_type": "markdown",
   "id": "04acf0f8",
   "metadata": {},
   "source": [
    "Предлагается также решить задачу:\n",
    "\n",
    "## Задача 8\n",
    "Брошены две игральные кости. Найти закон распределения случайной величины $X$, равной сумме выпавших очков. Найти вероятности событий $X <= 4$, $X > 4$"
   ]
  },
  {
   "cell_type": "code",
   "execution_count": null,
   "id": "3ff09717",
   "metadata": {},
   "outputs": [],
   "source": [
    "# Биномиальное распределение\n",
    "# Возможны 36 исходов эксперимента, случайная переменная Х, равная сумме выпавших очков, \n",
    "# может принимать одно из 11 числовых значений – от 2 до 12.\n",
    "# P(x)=1/36 2/36 3/36 4/36 5/36 6/36 5/36 4/36 3/36 2/36 1/36"
   ]
  },
  {
   "cell_type": "code",
   "execution_count": 2,
   "id": "42e6944f",
   "metadata": {},
   "outputs": [
    {
     "data": {
      "text/plain": [
       "array([6, 5, 8, 6, 6, 4, 5, 5, 4, 6])"
      ]
     },
     "execution_count": 2,
     "metadata": {},
     "output_type": "execute_result"
    }
   ],
   "source": [
    "binomial_rv = sts.binom(12, 0.5) \n",
    "\n",
    "binomial_rv.rvs(10)"
   ]
  },
  {
   "cell_type": "code",
   "execution_count": 3,
   "id": "8fa28803",
   "metadata": {},
   "outputs": [
    {
     "data": {
      "text/plain": [
       "[]"
      ]
     },
     "execution_count": 3,
     "metadata": {},
     "output_type": "execute_result"
    },
    {
     "data": {
      "image/png": "[encoded data removed]",
      "text/plain": [
       "<Figure size 432x288 with 1 Axes>"
      ]
     },
     "metadata": {
      "needs_background": "light"
     },
     "output_type": "display_data"
    }
   ],
   "source": [
    "# построим функцию распределения\n",
    "x = np.linspace(2,12)\n",
    "cdf = binomial_rv.cdf(x) # вернёт массив из значений функции распределения\n",
    "plt.step(x, cdf)\n",
    "plt.ylabel(\"$F(x)$\")\n",
    "plt.xlabel(\"$x$\")\n",
    "plt.plot()"
   ]
  },
  {
   "cell_type": "code",
   "execution_count": 4,
   "id": "3635f042",
   "metadata": {},
   "outputs": [
    {
     "data": {
      "text/plain": [
       "[]"
      ]
     },
     "execution_count": 4,
     "metadata": {},
     "output_type": "execute_result"
    },
    {
     "data": {
      "image/png": "[encoded data removed]",
      "text/plain": [
       "<Figure size 432x288 with 1 Axes>"
      ]
     },
     "metadata": {
      "needs_background": "light"
     },
     "output_type": "display_data"
    }
   ],
   "source": [
    "x = np.linspace(2,12,11)\n",
    "pdf = binomial_rv.pmf(x) # вернёт массив из значений функции распределения\n",
    "plt.scatter(x, pdf)\n",
    "plt.ylabel(\"$f(x)$\")\n",
    "plt.xlabel(\"$x$\")\n",
    "plt.plot()"
   ]
  },
  {
   "cell_type": "code",
   "execution_count": 71,
   "id": "ad0663b4",
   "metadata": {},
   "outputs": [
    {
     "data": {
      "text/plain": [
       "array([ 6,  5, 11,  8,  4,  3,  5,  5,  7,  7])"
      ]
     },
     "execution_count": 71,
     "metadata": {},
     "output_type": "execute_result"
    }
   ],
   "source": [
    "elements = np.array(list(range(2,13))) # сумма выпавших очков\n",
    "probabilities = [1/36, 2/36, 3/36, 4/36, 5/36, 6/36, 5/36, 4/36, 3/36, 2/36, 1/36]\n",
    "\n",
    "sum_of_points = np.random.choice(elements, 10, p=probabilities)\n",
    "sum_of_points"
   ]
  },
  {
   "cell_type": "code",
   "execution_count": 72,
   "id": "523953fb",
   "metadata": {},
   "outputs": [
    {
     "name": "stdout",
     "output_type": "stream",
     "text": [
      "Count sum of points less or equals 4: 2\n",
      "Count sum of points more than 4: 8\n"
     ]
    }
   ],
   "source": [
    "sum_less_equals_four = (sum_of_points <= 4).sum()\n",
    "sum_more_than_four = (sum_of_points > 4).sum()\n",
    "\n",
    "print(\"Count sum of points less or equals 4:\", sum_less_equals_four)\n",
    "print(\"Count sum of points more than 4:\", sum_more_than_four)"
   ]
  },
  {
   "cell_type": "code",
   "execution_count": 73,
   "id": "db57bafc",
   "metadata": {},
   "outputs": [
    {
     "data": {
      "text/plain": [
       "0.2"
      ]
     },
     "execution_count": 73,
     "metadata": {},
     "output_type": "execute_result"
    }
   ],
   "source": [
    "# вероятность события X <= 4\n",
    "sum_less_equals_four / len(sum_of_points)"
   ]
  },
  {
   "cell_type": "code",
   "execution_count": 74,
   "id": "1d700f76",
   "metadata": {},
   "outputs": [
    {
     "data": {
      "text/plain": [
       "0.8"
      ]
     },
     "execution_count": 74,
     "metadata": {},
     "output_type": "execute_result"
    }
   ],
   "source": [
    "# вероятность события X > 4\n",
    "sum_more_than_four / len(sum_of_points)"
   ]
  },
  {
   "cell_type": "markdown",
   "id": "4fa96da2",
   "metadata": {},
   "source": [
    "# Условные вероятности\n",
    "## Задача 9\n",
    "Из колоды (36 карт) вынимают последовательно без возвращения две карты. Найти вероятность того, что первой картой была шестерка, а второй — семерка. Найти условную вероятность того же события при условии, что обе карты бубновой масти."
   ]
  },
  {
   "cell_type": "code",
   "execution_count": 142,
   "id": "279b6217",
   "metadata": {},
   "outputs": [],
   "source": [
    "# в колоде карт четыре масти, в каждой масти по 9 карт\n",
    "nominals = ['6Ч', '7Ч', '8Ч', '9Ч', '10Ч', 'ВЧ', 'ДЧ', 'КЧ', 'ТЧ',\n",
    "            '6Б', '7Б', '8Б', '9Б', '10Б', 'ВБ', 'ДБ', 'КБ', 'ТБ',\n",
    "            '6Т', '7Т', '8Т', '9Т', '10Т', 'ВТ', 'ДТ', 'КТ', 'ТТ',\n",
    "            '6П', '7П', '8П', '9П', '10П', 'ВП', 'ДП', 'КП', 'ТП'\n",
    "           ]\n",
    "N = 1000000 # кол-во повторений"
   ]
  },
  {
   "cell_type": "code",
   "execution_count": 143,
   "id": "52c84443",
   "metadata": {},
   "outputs": [
    {
     "data": {
      "text/plain": [
       "array(['10Т', '8Т', '7Б', ..., '8П', '7Т', '10П'], dtype='<U3')"
      ]
     },
     "execution_count": 143,
     "metadata": {},
     "output_type": "execute_result"
    }
   ],
   "source": [
    "# выбираем первую карту\n",
    "card_1 = np.random.choice(nominals, N)\n",
    "card_1"
   ]
  },
  {
   "cell_type": "code",
   "execution_count": 144,
   "id": "9fe2a4e2",
   "metadata": {},
   "outputs": [
    {
     "data": {
      "text/plain": [
       "array(['ТТ', '6Т', 'КЧ', ..., '7Б', '7Т', 'ВТ'], dtype='<U3')"
      ]
     },
     "execution_count": 144,
     "metadata": {},
     "output_type": "execute_result"
    }
   ],
   "source": [
    "# выбираем вторую карту\n",
    "card_2 = np.random.choice(nominals, N)\n",
    "card_2"
   ]
  },
  {
   "cell_type": "code",
   "execution_count": 145,
   "id": "fd25d8ea",
   "metadata": {},
   "outputs": [
    {
     "data": {
      "text/html": [
       "<div>\n",
       "<style scoped>\n",
       "    .dataframe tbody tr th:only-of-type {\n",
       "        vertical-align: middle;\n",
       "    }\n",
       "\n",
       "    .dataframe tbody tr th {\n",
       "        vertical-align: top;\n",
       "    }\n",
       "\n",
       "    .dataframe thead th {\n",
       "        text-align: right;\n",
       "    }\n",
       "</style>\n",
       "<table border=\"1\" class=\"dataframe\">\n",
       "  <thead>\n",
       "    <tr style=\"text-align: right;\">\n",
       "      <th></th>\n",
       "      <th>card_1</th>\n",
       "      <th>card_2</th>\n",
       "    </tr>\n",
       "  </thead>\n",
       "  <tbody>\n",
       "    <tr>\n",
       "      <th>0</th>\n",
       "      <td>10Т</td>\n",
       "      <td>ТТ</td>\n",
       "    </tr>\n",
       "    <tr>\n",
       "      <th>1</th>\n",
       "      <td>8Т</td>\n",
       "      <td>6Т</td>\n",
       "    </tr>\n",
       "    <tr>\n",
       "      <th>2</th>\n",
       "      <td>7Б</td>\n",
       "      <td>КЧ</td>\n",
       "    </tr>\n",
       "    <tr>\n",
       "      <th>3</th>\n",
       "      <td>ВП</td>\n",
       "      <td>7Ч</td>\n",
       "    </tr>\n",
       "    <tr>\n",
       "      <th>4</th>\n",
       "      <td>КБ</td>\n",
       "      <td>ТП</td>\n",
       "    </tr>\n",
       "    <tr>\n",
       "      <th>5</th>\n",
       "      <td>6Т</td>\n",
       "      <td>ДБ</td>\n",
       "    </tr>\n",
       "    <tr>\n",
       "      <th>6</th>\n",
       "      <td>ТЧ</td>\n",
       "      <td>КЧ</td>\n",
       "    </tr>\n",
       "    <tr>\n",
       "      <th>7</th>\n",
       "      <td>ТЧ</td>\n",
       "      <td>9Т</td>\n",
       "    </tr>\n",
       "    <tr>\n",
       "      <th>8</th>\n",
       "      <td>10Б</td>\n",
       "      <td>9Ч</td>\n",
       "    </tr>\n",
       "    <tr>\n",
       "      <th>9</th>\n",
       "      <td>9П</td>\n",
       "      <td>КТ</td>\n",
       "    </tr>\n",
       "  </tbody>\n",
       "</table>\n",
       "</div>"
      ],
      "text/plain": [
       "  card_1 card_2\n",
       "0    10Т     ТТ\n",
       "1     8Т     6Т\n",
       "2     7Б     КЧ\n",
       "3     ВП     7Ч\n",
       "4     КБ     ТП\n",
       "5     6Т     ДБ\n",
       "6     ТЧ     КЧ\n",
       "7     ТЧ     9Т\n",
       "8    10Б     9Ч\n",
       "9     9П     КТ"
      ]
     },
     "execution_count": 145,
     "metadata": {},
     "output_type": "execute_result"
    }
   ],
   "source": [
    "df_two_cards = pd.DataFrame(zip(card_1, card_2), columns = ['card_1', 'card_2'])\n",
    "df_two_cards.head(10)"
   ]
  },
  {
   "cell_type": "code",
   "execution_count": 148,
   "id": "fb1c978f",
   "metadata": {},
   "outputs": [
    {
     "data": {
      "text/plain": [
       "0.012578"
      ]
     },
     "execution_count": 148,
     "metadata": {},
     "output_type": "execute_result"
    }
   ],
   "source": [
    "# считаем вероятность того, что первой картой была шестерка, а второй — семерка\n",
    "result_6_and_7 = (len(df_two_cards[df_two_cards[\"card_1\"].str.match('^[\"6\"]') & df_two_cards[\"card_2\"].str.match('^[\"7\"]')])) / df_two_cards.shape[0]\n",
    "result_6_and_7"
   ]
  },
  {
   "cell_type": "code",
   "execution_count": 147,
   "id": "9a05636e",
   "metadata": {},
   "outputs": [
    {
     "data": {
      "text/plain": [
       "0.000767"
      ]
     },
     "execution_count": 147,
     "metadata": {},
     "output_type": "execute_result"
    }
   ],
   "source": [
    "# считаем вероятность того, что первой картой была шестерка бубновой масти и второй — семерка бубновой масти\n",
    "result_6D_and_7D = (len(df_two_cards.query('(card_1 == \"6Б\" and card_2 == \"7Б\")'))) / df_two_cards.shape[0]\n",
    "result_6D_and_7D"
   ]
  },
  {
   "cell_type": "markdown",
   "id": "72d02bfe",
   "metadata": {},
   "source": [
    "Предлагается также решить задачу:\n",
    "\n",
    "## Задача 10\n",
    "Из урны, содержащей два белых и три черных шара, последовательно извлекают два шара; вынутые шары не возвращаются. Если первый шар оказался черным, то перед вторым извлечением в урну добавляют белый шар. В противном случае состав оставшихся шаров не меняют. Найти вероятности событий:\n",
    "\n",
    "$A$ = {извлечены два белых шара},\n",
    "\n",
    "$B$ = {извлечены два черных шара}\n",
    "\n",
    "Указание. Пусть событие $C_1$ = {первый шар белый}, событие $C_2$ = {второй шар белый}. Тогда $A = C_1C_2$, $B = \\overline{C}_1\\overline{C}_2$\n",
    " \n",
    " \n"
   ]
  },
  {
   "cell_type": "code",
   "execution_count": 4,
   "id": "c620717c",
   "metadata": {},
   "outputs": [],
   "source": [
    "balls = ['white', 'black'] # в урне черные и белые шары\n",
    "N = 10000 # кол-во повторений"
   ]
  },
  {
   "cell_type": "code",
   "execution_count": 5,
   "id": "227c055a",
   "metadata": {},
   "outputs": [],
   "source": [
    "ball_1 = np.random.choice(balls, N, p=[2/5, 3/5]) # вероятность извлечь первый шар из урны белым 2/5, черный - 3/5\n",
    "\n",
    "ball_2 = list(map(lambda ball:\n",
    "                  np.random.choice(balls, N, p=[1/4, 3/4])[0]       # вероятность извлечь белый шар вторым 1/4, черый 3/4\n",
    "                  if ball == balls[0]\n",
    "                  # если первым выпал черный шар, то добавляем в урну один белый шар\n",
    "                  else np.random.choice(balls, N, p=[3/5, 2/5])[0], # вероятность извлечь белый шар вторым 3/5, черый 2/5\n",
    "                 ball_1))"
   ]
  },
  {
   "cell_type": "code",
   "execution_count": 6,
   "id": "ed23dd03",
   "metadata": {},
   "outputs": [
    {
     "data": {
      "text/html": [
       "<div>\n",
       "<style scoped>\n",
       "    .dataframe tbody tr th:only-of-type {\n",
       "        vertical-align: middle;\n",
       "    }\n",
       "\n",
       "    .dataframe tbody tr th {\n",
       "        vertical-align: top;\n",
       "    }\n",
       "\n",
       "    .dataframe thead th {\n",
       "        text-align: right;\n",
       "    }\n",
       "</style>\n",
       "<table border=\"1\" class=\"dataframe\">\n",
       "  <thead>\n",
       "    <tr style=\"text-align: right;\">\n",
       "      <th></th>\n",
       "      <th>ball_1</th>\n",
       "      <th>ball_2</th>\n",
       "    </tr>\n",
       "  </thead>\n",
       "  <tbody>\n",
       "    <tr>\n",
       "      <th>0</th>\n",
       "      <td>white</td>\n",
       "      <td>black</td>\n",
       "    </tr>\n",
       "    <tr>\n",
       "      <th>1</th>\n",
       "      <td>black</td>\n",
       "      <td>black</td>\n",
       "    </tr>\n",
       "    <tr>\n",
       "      <th>2</th>\n",
       "      <td>black</td>\n",
       "      <td>black</td>\n",
       "    </tr>\n",
       "    <tr>\n",
       "      <th>3</th>\n",
       "      <td>black</td>\n",
       "      <td>white</td>\n",
       "    </tr>\n",
       "    <tr>\n",
       "      <th>4</th>\n",
       "      <td>white</td>\n",
       "      <td>black</td>\n",
       "    </tr>\n",
       "    <tr>\n",
       "      <th>5</th>\n",
       "      <td>white</td>\n",
       "      <td>black</td>\n",
       "    </tr>\n",
       "    <tr>\n",
       "      <th>6</th>\n",
       "      <td>white</td>\n",
       "      <td>black</td>\n",
       "    </tr>\n",
       "    <tr>\n",
       "      <th>7</th>\n",
       "      <td>white</td>\n",
       "      <td>black</td>\n",
       "    </tr>\n",
       "    <tr>\n",
       "      <th>8</th>\n",
       "      <td>black</td>\n",
       "      <td>white</td>\n",
       "    </tr>\n",
       "    <tr>\n",
       "      <th>9</th>\n",
       "      <td>white</td>\n",
       "      <td>black</td>\n",
       "    </tr>\n",
       "  </tbody>\n",
       "</table>\n",
       "</div>"
      ],
      "text/plain": [
       "  ball_1 ball_2\n",
       "0  white  black\n",
       "1  black  black\n",
       "2  black  black\n",
       "3  black  white\n",
       "4  white  black\n",
       "5  white  black\n",
       "6  white  black\n",
       "7  white  black\n",
       "8  black  white\n",
       "9  white  black"
      ]
     },
     "execution_count": 6,
     "metadata": {},
     "output_type": "execute_result"
    }
   ],
   "source": [
    "df_two_balls = pd.DataFrame(zip(ball_1, ball_2), columns = ['ball_1', 'ball_2'])\n",
    "df_two_balls.head(10)"
   ]
  },
  {
   "cell_type": "code",
   "execution_count": 7,
   "id": "781e71e8",
   "metadata": {},
   "outputs": [
    {
     "data": {
      "text/plain": [
       "0.1014"
      ]
     },
     "execution_count": 7,
     "metadata": {},
     "output_type": "execute_result"
    }
   ],
   "source": [
    "# считаем вероятность события 𝐴  = {извлечены два белых шара}\n",
    "two_white_balls = (len(df_two_balls.query('(ball_1 == \"white\" and ball_2 == \"white\")'))) / df_two_balls.shape[0]\n",
    "two_white_balls"
   ]
  },
  {
   "cell_type": "code",
   "execution_count": 8,
   "id": "bf5233f6",
   "metadata": {},
   "outputs": [
    {
     "data": {
      "text/plain": [
       "0.2332"
      ]
     },
     "execution_count": 8,
     "metadata": {},
     "output_type": "execute_result"
    }
   ],
   "source": [
    "# считаем вероятность события 𝐵  = {извлечены два черных шара}\n",
    "two_black_balls = (len(df_two_balls.query('(ball_1 == \"black\" and ball_2 == \"black\")'))) / df_two_balls.shape[0]\n",
    "two_black_balls"
   ]
  }
 ],
 "metadata": {
  "kernelspec": {
   "display_name": "Python 3 (ipykernel)",
   "language": "python",
   "name": "python3"
  },
  "language_info": {
   "codemirror_mode": {
    "name": "ipython",
    "version": 3
   },
   "file_extension": ".py",
   "mimetype": "text/x-python",
   "name": "python",
   "nbconvert_exporter": "python",
   "pygments_lexer": "ipython3",
   "version": "3.9.7"
  },
  "toc": {
   "base_numbering": 1,
   "nav_menu": {},
   "number_sections": false,
   "sideBar": true,
   "skip_h1_title": false,
   "title_cell": "Table of Contents",
   "title_sidebar": "Contents",
   "toc_cell": false,
   "toc_position": {},
   "toc_section_display": true,
   "toc_window_display": false
  }
 },
 "nbformat": 4,
 "nbformat_minor": 5
}
