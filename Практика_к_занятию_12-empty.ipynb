{
 "cells": [
  {
   "cell_type": "markdown",
   "metadata": {
    "id": "pDrecLU-4QjS"
   },
   "source": [
    "# Практика"
   ]
  },
  {
   "cell_type": "code",
   "execution_count": 3,
   "metadata": {
    "id": "a6XFMuQUG6jO"
   },
   "outputs": [],
   "source": [
    "import pandas as pd\n",
    "import numpy as np\n",
    "import matplotlib.pyplot as plt\n",
    "import scipy.stats as sts\n",
    "import math\n",
    "%matplotlib inline"
   ]
  },
  {
   "cell_type": "markdown",
   "metadata": {
    "id": "5owLnS0MHJnz"
   },
   "source": [
    "## ЦПТ для различных распределений\n",
    "Возьмите то непрерывное распределение, которое вам больше всего понравится из списка доступных в модуле [scipy.stats](https://docs.scipy.org/doc/scipy/reference/stats.html)."
   ]
  },
  {
   "cell_type": "markdown",
   "metadata": {
    "id": "v1IvIGF9IRgH"
   },
   "source": [
    "### Сгенерируйте примеры из распределения"
   ]
  },
  {
   "cell_type": "code",
   "execution_count": 30,
   "metadata": {},
   "outputs": [],
   "source": [
    "# распределение dgamma: https://docs.scipy.org/doc/scipy/reference/generated/scipy.stats.dgamma.html#scipy.stats.dgamma\n",
    "a = 1.1\n",
    "dgamma_rv = sts.dgamma(a)\n",
    "# Generate random numbers\n",
    "dgamma_sample = dgamma_rv.rvs(1000)\n",
    "# dgamma_sample"
   ]
  },
  {
   "cell_type": "code",
   "execution_count": 5,
   "metadata": {
    "colab": {
     "base_uri": "https://localhost:8080/",
     "height": 35
    },
    "id": "ScsjsI4oXgKR",
    "outputId": "86833794-f43b-436e-a0e4-c3b7483df016"
   },
   "outputs": [
    {
     "data": {
      "text/plain": [
       "dtype('float64')"
      ]
     },
     "execution_count": 5,
     "metadata": {},
     "output_type": "execute_result"
    }
   ],
   "source": [
    "dgamma_sample.dtype"
   ]
  },
  {
   "cell_type": "code",
   "execution_count": 6,
   "metadata": {},
   "outputs": [
    {
     "data": {
      "text/plain": [
       "0.0"
      ]
     },
     "execution_count": 6,
     "metadata": {},
     "output_type": "execute_result"
    }
   ],
   "source": [
    "real_mean = dgamma_rv.mean() # настоящее среднее случайной величины\n",
    "real_mean"
   ]
  },
  {
   "cell_type": "code",
   "execution_count": 7,
   "metadata": {},
   "outputs": [
    {
     "data": {
      "text/plain": [
       "2.3100000000000005"
      ]
     },
     "execution_count": 7,
     "metadata": {},
     "output_type": "execute_result"
    }
   ],
   "source": [
    "real_var = dgamma_rv.var() # настоящая дисперсия случайной величины\n",
    "real_var"
   ]
  },
  {
   "cell_type": "code",
   "execution_count": 25,
   "metadata": {},
   "outputs": [
    {
     "data": {
      "text/plain": [
       "1.5198684153570665"
      ]
     },
     "execution_count": 25,
     "metadata": {},
     "output_type": "execute_result"
    }
   ],
   "source": [
    "real_std = dgamma_rv.std()\n",
    "real_std"
   ]
  },
  {
   "cell_type": "markdown",
   "metadata": {
    "id": "4bNn15giIX77"
   },
   "source": [
    "### Постройте гистограмму выборки и теоретическую плотность распределения"
   ]
  },
  {
   "cell_type": "code",
   "execution_count": 65,
   "metadata": {},
   "outputs": [
    {
     "data": {
      "text/plain": [
       "<matplotlib.legend.Legend at 0x2d2b73d7bb0>"
      ]
     },
     "execution_count": 65,
     "metadata": {},
     "output_type": "execute_result"
    },
    {
     "data": {
      "image/png": "[encoded data removed]",
      "text/plain": [
       "<Figure size 432x288 with 1 Axes>"
      ]
     },
     "metadata": {
      "needs_background": "light"
     },
     "output_type": "display_data"
    }
   ],
   "source": [
    "plt.hist(dgamma_sample, density=True)\n",
    "x = np.linspace(-8,8,1000)\n",
    "pdf = dgamma_rv.pdf(x)\n",
    "plt.plot(x, pdf, label='теоретич. плотность', alpha=0.8)\n",
    "plt.legend(loc='upper right', frameon=False)"
   ]
  },
  {
   "cell_type": "code",
   "execution_count": 32,
   "metadata": {},
   "outputs": [
    {
     "name": "stdout",
     "output_type": "stream",
     "text": [
      "-0.08033444783004427\n",
      "2.1734156790742616\n"
     ]
    }
   ],
   "source": [
    "dgamma_sample_mean = dgamma_sample.mean() # выборочное среднее\n",
    "print(dgamma_sample_mean)\n",
    "dgamma_sample_var = dgamma_sample.var() # выборочная дисперсия\n",
    "print(dgamma_sample_var)"
   ]
  },
  {
   "cell_type": "markdown",
   "metadata": {
    "id": "qPuHR68NId_Z"
   },
   "source": [
    "### Оценим распределение выборочного среднего для разных объёмов выборок\n",
    "Для этого постройте на одном полотне гистограмму выборочных средних и теоретическое распределение выборочных средних по ЦПТ для разных объёмов выборок.\n",
    "\n",
    "Для теоретического распределение используйте настоящие значения мат ожидания и дисперсии (не приближенные на основе выборки)."
   ]
  },
  {
   "cell_type": "code",
   "execution_count": 51,
   "metadata": {},
   "outputs": [
    {
     "data": {
      "image/png": "[encoded data removed]",
      "text/plain": [
       "<Figure size 1152x648 with 1 Axes>"
      ]
     },
     "metadata": {
      "needs_background": "light"
     },
     "output_type": "display_data"
    }
   ],
   "source": [
    "plt.figure(figsize=(16,9))\n",
    "# сгенерируем много выборочных средних\n",
    "for N in [10, 100, 1000, 10000]:\n",
    "    means = []\n",
    "    for i in range(1000):\n",
    "        means.append(np.mean(dgamma_rv.rvs(N)))\n",
    "    plt.hist(means, alpha=0.5)\n",
    "\n",
    "plt.legend(['10', '100', '1000', '10000'])\n",
    "plt.show()"
   ]
  },
  {
   "cell_type": "code",
   "execution_count": 58,
   "metadata": {},
   "outputs": [],
   "source": [
    "N = 100\n",
    "# сгенерируем много выборочных средних\n",
    "means = []\n",
    "for i in range(1000):\n",
    "    means.append(np.mean(dgamma_rv.rvs(N)))\n",
    "\n",
    "means = np.array(means).astype(np.float32)"
   ]
  },
  {
   "cell_type": "code",
   "execution_count": 63,
   "metadata": {},
   "outputs": [
    {
     "data": {
      "text/plain": [
       "[]"
      ]
     },
     "execution_count": 63,
     "metadata": {},
     "output_type": "execute_result"
    },
    {
     "data": {
      "image/png": "[encoded data removed]",
      "text/plain": [
       "<Figure size 432x288 with 1 Axes>"
      ]
     },
     "metadata": {
      "needs_background": "light"
     },
     "output_type": "display_data"
    }
   ],
   "source": [
    "real_dgamma_rv = sts.dgamma(a, loc=dgamma_rv.mean(), scale=dgamma_rv.std() / np.sqrt(N))\n",
    "plt.hist(means, density=True, bins=40)\n",
    "x = np.linspace(-1,1, 1000)\n",
    "pdf = real_dgamma_rv.pdf(x)\n",
    "plt.plot(x, pdf, label='теоретич. плотность', alpha=0.8)\n",
    "plt.legend(loc='upper right', frameon=False)\n",
    "plt.plot()"
   ]
  },
  {
   "cell_type": "code",
   "execution_count": 60,
   "metadata": {},
   "outputs": [
    {
     "name": "stdout",
     "output_type": "stream",
     "text": [
      "Доверительный интервал для среднего по цпт, если нам известна дисперсия: [-0.12138029561518207, 0.4865670705276446] \n"
     ]
    }
   ],
   "source": [
    "data = dgamma_rv.rvs(N)\n",
    "print(\"Доверительный интервал для среднего по цпт, если нам известна дисперсия: [{}, {}] \".format(\n",
    "    np.mean(data) - 2 * dgamma_rv.std() / np.sqrt(N), np.mean(data) + 2 * dgamma_rv.std() / np.sqrt(N) \n",
    "))"
   ]
  },
  {
   "cell_type": "markdown",
   "metadata": {
    "id": "TF1onBy_J7sX"
   },
   "source": [
    "Как вы считаете, для выбранного распределения апроксимация распределения выборочного среднего работает хорошо или плохо?\n",
    "**Ваш ответ:**"
   ]
  },
  {
   "cell_type": "code",
   "execution_count": null,
   "metadata": {
    "id": "1BEsK495KIuM"
   },
   "outputs": [],
   "source": [
    "# Для dgamma распределения апроксимация распределения выборочного среднего, на мой взгляд, работает плохо, \n",
    "# так как оно сильно сглаживает погрешности эксперимента."
   ]
  },
  {
   "cell_type": "markdown",
   "metadata": {
    "id": "xEyWxfjSfxGp"
   },
   "source": [
    "## Доверительный интервал на основе ЦПТ\n",
    "Возьмите данные для оттока телеком компании, и постройте доверительные интервалы для среднего значения total day calls, используя центральную предельную теорему в разбиении по колонке churn (ушел/не ушел). \n",
    "\n",
    "Для оценки дисперсии используйте несмещенную оценку (параметр ddof=1).\n",
    "\n",
    "Сделайте оценку с использованием явной формулы для z интервала, а затем с помощью функций \n",
    "`from statsmodels.stats.weightstats import _zconfint_generic`. Сравните результаты.\n",
    "\n",
    "\n",
    "Ссылка на данные: https://drive.google.com/file/d/1X_drKqoarnU2Sz2har7uSCsgyhh8Xtz8/view?usp=sharing"
   ]
  },
  {
   "cell_type": "code",
   "execution_count": null,
   "metadata": {
    "id": "56V0za8GfxeL"
   },
   "outputs": [],
   "source": []
  }
 ],
 "metadata": {
  "colab": {
   "collapsed_sections": [],
   "name": "Практика к занятию 12.ipynb",
   "provenance": []
  },
  "kernelspec": {
   "display_name": "Python 3 (ipykernel)",
   "language": "python",
   "name": "python3"
  },
  "language_info": {
   "codemirror_mode": {
    "name": "ipython",
    "version": 3
   },
   "file_extension": ".py",
   "mimetype": "text/x-python",
   "name": "python",
   "nbconvert_exporter": "python",
   "pygments_lexer": "ipython3",
   "version": "3.9.7"
  },
  "toc": {
   "base_numbering": 1,
   "nav_menu": {},
   "number_sections": true,
   "sideBar": true,
   "skip_h1_title": false,
   "title_cell": "Table of Contents",
   "title_sidebar": "Contents",
   "toc_cell": false,
   "toc_position": {},
   "toc_section_display": true,
   "toc_window_display": false
  }
 },
 "nbformat": 4,
 "nbformat_minor": 1
}
